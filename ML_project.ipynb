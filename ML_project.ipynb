{
  "nbformat": 4,
  "nbformat_minor": 0,
  "metadata": {
    "colab": {
      "name": "ML project.ipynb",
      "provenance": [],
      "collapsed_sections": []
    },
    "kernelspec": {
      "name": "python3",
      "display_name": "Python 3"
    },
    "language_info": {
      "name": "python"
    }
  },
  "cells": [
    {
      "cell_type": "code",
      "execution_count": null,
      "metadata": {
        "id": "NeJysMW06lnk",
        "colab": {
          "base_uri": "https://localhost:8080/"
        },
        "outputId": "5573902e-27cb-4da4-e316-fdfd03ab0335"
      },
      "outputs": [
        {
          "output_type": "stream",
          "name": "stdout",
          "text": [
            "Mounted at /content/gdrive\n"
          ]
        }
      ],
      "source": [
        "# This notebook has been tested in Google colab\n",
        "from google.colab import drive\n",
        "\n",
        "drive.mount('/content/gdrive')"
      ]
    },
    {
      "cell_type": "code",
      "source": [
        "import numpy as np\n",
        "from sklearn.preprocessing import StandardScaler\n",
        "from sklearn.decomposition import PCA\n",
        "from sklearn.model_selection import train_test_split\n",
        "from sklearn.model_selection import GridSearchCV\n",
        "from sklearn.linear_model import LogisticRegression\n",
        "from sklearn.tree import DecisionTreeClassifier\n",
        "from sklearn.metrics import mean_absolute_error\n",
        "from sklearn.metrics import mean_squared_error\n",
        "import matplotlib.pyplot as plt\n",
        "import warnings\n",
        "warnings.filterwarnings('ignore')"
      ],
      "metadata": {
        "id": "9g6fwXqqDw9R"
      },
      "execution_count": null,
      "outputs": []
    },
    {
      "cell_type": "code",
      "source": [
        "# Load Dataset\n",
        "def loadDataSet(fileName):\n",
        "  fr = open(fileName)\n",
        "  stringArr = [line.strip().split(' ') for line in fr.readlines()]\n",
        "  datArr = []\n",
        "  for line in stringArr:\n",
        "    temp = []\n",
        "    for num in line:\n",
        "      temp.append(float(num))\n",
        "    datArr.append(temp)\n",
        "  return np.mat(datArr)"
      ],
      "metadata": {
        "id": "B1EqgtCpD4DV"
      },
      "execution_count": null,
      "outputs": []
    },
    {
      "cell_type": "code",
      "source": [
        "# Load Label\n",
        "def loadLabel(fileName):\n",
        "  fr = open(fileName)\n",
        "  label = [line.strip().split(' ')[0] for line in fr.readlines()]\n",
        "  return np.array(label)"
      ],
      "metadata": {
        "id": "J9o_tbxtFFGa"
      },
      "execution_count": null,
      "outputs": []
    },
    {
      "cell_type": "code",
      "source": [
        "# Data Pre-processing\n",
        "# Data imputation using mean value of feature\n",
        "def replaceNanWithMean():\n",
        "  dataMat = loadDataSet(\"/content/gdrive/My Drive/secom.data\")\n",
        "  numFeature = np.shape(dataMat)[1]\n",
        "  for i in range(numFeature):\n",
        "    meanVal = np.mean(dataMat[np.nonzero(~np.isnan(dataMat[:, i].A))[0], i])\n",
        "    dataMat[np.nonzero(np.isnan(dataMat[:, i].A))[0], i] = meanVal\n",
        "  return dataMat"
      ],
      "metadata": {
        "id": "R3RCTzlIDgRG"
      },
      "execution_count": null,
      "outputs": []
    },
    {
      "cell_type": "code",
      "source": [
        "dataMat = replaceNanWithMean()\n",
        "# Feature selection, PCA\n",
        "pca = PCA()\n",
        "pca.fit(dataMat)\n",
        "explained_variance_ratio_ = pca.explained_variance_ratio_\n",
        "print(explained_variance_ratio_[:20])\n",
        "x = range(1, 21)\n",
        "plt.plot(x, explained_variance_ratio_[:20])\n",
        "plt.xlabel('Number of Component')\n",
        "plt.ylabel('Percentage of variance')\n",
        "plt.show()"
      ],
      "metadata": {
        "colab": {
          "base_uri": "https://localhost:8080/",
          "height": 349
        },
        "id": "SsNYDwygAEfl",
        "outputId": "3e5a958c-499a-47d4-cf65-04341edd0c61"
      },
      "execution_count": null,
      "outputs": [
        {
          "output_type": "stream",
          "name": "stdout",
          "text": [
            "[0.59254058 0.24123819 0.09150014 0.02300579 0.01459192 0.00518818\n",
            " 0.00322658 0.00314677 0.0026308  0.00231307 0.00217535 0.00207282\n",
            " 0.00169084 0.00125591 0.00120353 0.00114092 0.00111115 0.00092458\n",
            " 0.00090503 0.00086145]\n"
          ]
        },
        {
          "output_type": "display_data",
          "data": {
            "image/png": "[encoded data removed]",
            "text/plain": [
              "<Figure size 432x288 with 1 Axes>"
            ]
          },
          "metadata": {
            "needs_background": "light"
          }
        }
      ]
    },
    {
      "cell_type": "code",
      "source": [
        "# Keep the first six component, prepare the features and labels for training and testing\n",
        "# Hold out 30% of the data for testing our classifier\n",
        "dataMat = replaceNanWithMean()\n",
        "scaler = StandardScaler()\n",
        "scalerdataMat = scaler.fit_transform(dataMat)\n",
        "pca = PCA(n_components=6)\n",
        "features = pca.fit_transform(scalerdataMat)\n",
        "print(features)\n",
        "labels = loadLabel('/content/gdrive/My Drive/secom_labels.data')\n",
        "print(labels)\n",
        "features_train, features_test, labels_train, labels_test = train_test_split(features, labels, test_size=0.4, random_state=0)"
      ],
      "metadata": {
        "colab": {
          "base_uri": "https://localhost:8080/"
        },
        "id": "O0Y2bHRPSn0a",
        "outputId": "a2b01bf7-fc3e-4d5f-ab8f-a882edc2cf95"
      },
      "execution_count": null,
      "outputs": [
        {
          "output_type": "stream",
          "name": "stdout",
          "text": [
            "[[-1.68842166  2.88115111  3.79761765 -2.65368832 -0.61332963 -1.19602125]\n",
            " [-2.23210711  0.79428316  2.80766116 -2.10107985 -0.61385171 -1.55422439]\n",
            " [ 0.41470599  1.12928252  1.25645994 -0.45965744  0.32398185  2.23059651]\n",
            " ...\n",
            " [-1.12189712 -1.49774904 -1.27285894  1.15178156 -0.52157315 -2.1193743 ]\n",
            " [-1.1428058  -3.12921678 -3.4468217   3.22664945  0.43956949  3.03321154]\n",
            " [ 2.00687932 -2.85023704 -2.32635627  3.90168427  0.82813803  3.87475746]]\n",
            "['-1' '-1' '1' ... '-1' '-1' '-1']\n"
          ]
        }
      ]
    },
    {
      "cell_type": "code",
      "source": [
        "# Try logistic regression model\n",
        "# Use GridSearch for better parameters \"C\"\n",
        "# Use 10 fold cross validation\n",
        "logistic = LogisticRegression(max_iter=2000)\n",
        "params_logistic = {'C': np.logspace(-4, 4, 20)}\n",
        "search_logistic = GridSearchCV(logistic, params_logistic, cv=10, scoring='neg_mean_squared_error',return_train_score=True)\n",
        "search_logistic.fit(features_train, labels_train)\n",
        "print(search_logistic.cv_results_)\n",
        "print(\"Best parameter (CV score=%0.3f):\" % search_logistic.best_score_)\n",
        "print(search_logistic.best_params_)"
      ],
      "metadata": {
        "colab": {
          "base_uri": "https://localhost:8080/"
        },
        "id": "45PzoqBuSnrK",
        "outputId": "d7bce93e-18e2-4789-dccd-70bb0576fc3a"
      },
      "execution_count": null,
      "outputs": [
        {
          "output_type": "stream",
          "name": "stdout",
          "text": [
            "{'mean_fit_time': array([0.00456929, 0.00410559, 0.0041672 , 0.00710778, 0.00554783,\n",
            "       0.00617125, 0.00686069, 0.00723951, 0.00782385, 0.00793271,\n",
            "       0.00754979, 0.0080353 , 0.0077126 , 0.009168  , 0.008058  ,\n",
            "       0.00770564, 0.00764921, 0.00759273, 0.00734818, 0.00761261]), 'std_fit_time': array([0.0006493 , 0.00028603, 0.00022168, 0.00386129, 0.00050596,\n",
            "       0.00095911, 0.00048514, 0.0007175 , 0.00166796, 0.00175213,\n",
            "       0.00051059, 0.00138598, 0.00093091, 0.00358018, 0.00164947,\n",
            "       0.00086142, 0.00071221, 0.00093806, 0.00045464, 0.00088316]), 'mean_score_time': array([0.00042951, 0.00044668, 0.00042517, 0.00060878, 0.00047441,\n",
            "       0.00045569, 0.00047545, 0.00048008, 0.00048871, 0.0004827 ,\n",
            "       0.00047181, 0.00050938, 0.00048919, 0.00049558, 0.00048797,\n",
            "       0.00049608, 0.00045516, 0.00047984, 0.00045218, 0.00048606]), 'std_score_time': array([2.25764267e-05, 5.18096519e-05, 1.53320202e-05, 1.89809168e-04,\n",
            "       3.27154774e-05, 2.05372524e-05, 3.06747161e-05, 4.26838779e-05,\n",
            "       8.47844626e-05, 7.02067381e-05, 2.40380914e-05, 9.27387747e-05,\n",
            "       7.12246765e-05, 5.61070600e-05, 8.56398773e-05, 1.29934453e-04,\n",
            "       1.57495098e-05, 4.93694820e-05, 1.52133474e-05, 9.48273775e-05]), 'param_C': masked_array(data=[0.0001, 0.00026366508987303583, 0.0006951927961775605,\n",
            "                   0.0018329807108324356, 0.004832930238571752,\n",
            "                   0.012742749857031334, 0.03359818286283781,\n",
            "                   0.08858667904100823, 0.23357214690901212,\n",
            "                   0.615848211066026, 1.623776739188721,\n",
            "                   4.281332398719396, 11.288378916846883,\n",
            "                   29.763514416313132, 78.47599703514607,\n",
            "                   206.913808111479, 545.5594781168514, 1438.44988828766,\n",
            "                   3792.690190732246, 10000.0],\n",
            "             mask=[False, False, False, False, False, False, False, False,\n",
            "                   False, False, False, False, False, False, False, False,\n",
            "                   False, False, False, False],\n",
            "       fill_value='?',\n",
            "            dtype=object), 'params': [{'C': 0.0001}, {'C': 0.00026366508987303583}, {'C': 0.0006951927961775605}, {'C': 0.0018329807108324356}, {'C': 0.004832930238571752}, {'C': 0.012742749857031334}, {'C': 0.03359818286283781}, {'C': 0.08858667904100823}, {'C': 0.23357214690901212}, {'C': 0.615848211066026}, {'C': 1.623776739188721}, {'C': 4.281332398719396}, {'C': 11.288378916846883}, {'C': 29.763514416313132}, {'C': 78.47599703514607}, {'C': 206.913808111479}, {'C': 545.5594781168514}, {'C': 1438.44988828766}, {'C': 3792.690190732246}, {'C': 10000.0}], 'split0_test_score': array([-0.25531915, -0.25531915, -0.25531915, -0.25531915, -0.25531915,\n",
            "       -0.25531915, -0.25531915, -0.25531915, -0.25531915, -0.25531915,\n",
            "       -0.25531915, -0.25531915, -0.25531915, -0.25531915, -0.25531915,\n",
            "       -0.25531915, -0.25531915, -0.25531915, -0.25531915, -0.25531915]), 'split1_test_score': array([-0.29787234, -0.29787234, -0.34042553, -0.34042553, -0.34042553,\n",
            "       -0.34042553, -0.34042553, -0.34042553, -0.34042553, -0.34042553,\n",
            "       -0.34042553, -0.34042553, -0.34042553, -0.34042553, -0.34042553,\n",
            "       -0.34042553, -0.34042553, -0.34042553, -0.34042553, -0.34042553]), 'split2_test_score': array([-0.29787234, -0.29787234, -0.29787234, -0.29787234, -0.29787234,\n",
            "       -0.29787234, -0.29787234, -0.29787234, -0.29787234, -0.29787234,\n",
            "       -0.29787234, -0.29787234, -0.29787234, -0.29787234, -0.29787234,\n",
            "       -0.29787234, -0.29787234, -0.29787234, -0.29787234, -0.29787234]), 'split3_test_score': array([-0.29787234, -0.29787234, -0.29787234, -0.29787234, -0.29787234,\n",
            "       -0.29787234, -0.29787234, -0.29787234, -0.29787234, -0.29787234,\n",
            "       -0.29787234, -0.29787234, -0.29787234, -0.29787234, -0.29787234,\n",
            "       -0.29787234, -0.29787234, -0.29787234, -0.29787234, -0.29787234]), 'split4_test_score': array([-0.29787234, -0.29787234, -0.29787234, -0.29787234, -0.29787234,\n",
            "       -0.29787234, -0.29787234, -0.29787234, -0.29787234, -0.29787234,\n",
            "       -0.29787234, -0.29787234, -0.29787234, -0.29787234, -0.29787234,\n",
            "       -0.29787234, -0.29787234, -0.29787234, -0.29787234, -0.29787234]), 'split5_test_score': array([-0.29787234, -0.29787234, -0.29787234, -0.29787234, -0.29787234,\n",
            "       -0.29787234, -0.29787234, -0.29787234, -0.29787234, -0.29787234,\n",
            "       -0.29787234, -0.29787234, -0.29787234, -0.29787234, -0.29787234,\n",
            "       -0.29787234, -0.29787234, -0.29787234, -0.29787234, -0.29787234]), 'split6_test_score': array([-0.29787234, -0.29787234, -0.29787234, -0.29787234, -0.29787234,\n",
            "       -0.29787234, -0.29787234, -0.29787234, -0.29787234, -0.29787234,\n",
            "       -0.29787234, -0.29787234, -0.29787234, -0.29787234, -0.29787234,\n",
            "       -0.29787234, -0.29787234, -0.29787234, -0.29787234, -0.29787234]), 'split7_test_score': array([-0.29787234, -0.29787234, -0.29787234, -0.29787234, -0.29787234,\n",
            "       -0.29787234, -0.29787234, -0.29787234, -0.29787234, -0.29787234,\n",
            "       -0.29787234, -0.29787234, -0.29787234, -0.29787234, -0.29787234,\n",
            "       -0.29787234, -0.29787234, -0.29787234, -0.29787234, -0.29787234]), 'split8_test_score': array([-0.29787234, -0.29787234, -0.29787234, -0.29787234, -0.29787234,\n",
            "       -0.29787234, -0.29787234, -0.29787234, -0.29787234, -0.29787234,\n",
            "       -0.29787234, -0.29787234, -0.29787234, -0.29787234, -0.29787234,\n",
            "       -0.29787234, -0.29787234, -0.29787234, -0.29787234, -0.29787234]), 'split9_test_score': array([-0.29787234, -0.29787234, -0.29787234, -0.29787234, -0.29787234,\n",
            "       -0.29787234, -0.29787234, -0.29787234, -0.29787234, -0.29787234,\n",
            "       -0.29787234, -0.29787234, -0.29787234, -0.29787234, -0.29787234,\n",
            "       -0.29787234, -0.29787234, -0.29787234, -0.29787234, -0.29787234]), 'mean_test_score': array([-0.29361702, -0.29361702, -0.29787234, -0.29787234, -0.29787234,\n",
            "       -0.29787234, -0.29787234, -0.29787234, -0.29787234, -0.29787234,\n",
            "       -0.29787234, -0.29787234, -0.29787234, -0.29787234, -0.29787234,\n",
            "       -0.29787234, -0.29787234, -0.29787234, -0.29787234, -0.29787234]), 'std_test_score': array([0.01276596, 0.01276596, 0.01903037, 0.01903037, 0.01903037,\n",
            "       0.01903037, 0.01903037, 0.01903037, 0.01903037, 0.01903037,\n",
            "       0.01903037, 0.01903037, 0.01903037, 0.01903037, 0.01903037,\n",
            "       0.01903037, 0.01903037, 0.01903037, 0.01903037, 0.01903037]), 'rank_test_score': array([1, 1, 3, 3, 3, 3, 3, 3, 3, 3, 3, 3, 3, 3, 3, 3, 3, 3, 3, 3],\n",
            "      dtype=int32), 'split0_train_score': array([-0.29787234, -0.29787234, -0.29787234, -0.29787234, -0.29787234,\n",
            "       -0.29787234, -0.29787234, -0.29787234, -0.29787234, -0.29787234,\n",
            "       -0.29787234, -0.29787234, -0.29787234, -0.29787234, -0.29787234,\n",
            "       -0.29787234, -0.29787234, -0.29787234, -0.29787234, -0.29787234]), 'split1_train_score': array([-0.29314421, -0.29314421, -0.29314421, -0.29314421, -0.29787234,\n",
            "       -0.29787234, -0.29787234, -0.29787234, -0.29787234, -0.29787234,\n",
            "       -0.29787234, -0.29787234, -0.29787234, -0.29787234, -0.29787234,\n",
            "       -0.29787234, -0.29787234, -0.29787234, -0.29787234, -0.29787234]), 'split2_train_score': array([-0.29314421, -0.29314421, -0.29314421, -0.29314421, -0.29314421,\n",
            "       -0.29314421, -0.29314421, -0.29314421, -0.29314421, -0.29314421,\n",
            "       -0.29314421, -0.29314421, -0.29314421, -0.29314421, -0.29314421,\n",
            "       -0.29314421, -0.29314421, -0.29314421, -0.29314421, -0.29314421]), 'split3_train_score': array([-0.29314421, -0.29314421, -0.29314421, -0.29314421, -0.29314421,\n",
            "       -0.29314421, -0.29314421, -0.29314421, -0.29314421, -0.29787234,\n",
            "       -0.29787234, -0.29787234, -0.29787234, -0.29787234, -0.29787234,\n",
            "       -0.29787234, -0.29787234, -0.29787234, -0.29787234, -0.29787234]), 'split4_train_score': array([-0.29314421, -0.29314421, -0.29314421, -0.29314421, -0.29314421,\n",
            "       -0.29314421, -0.29787234, -0.29787234, -0.29787234, -0.29787234,\n",
            "       -0.29787234, -0.29787234, -0.29787234, -0.29787234, -0.29787234,\n",
            "       -0.29787234, -0.29787234, -0.29787234, -0.29787234, -0.29787234]), 'split5_train_score': array([-0.29314421, -0.29314421, -0.29314421, -0.29314421, -0.29314421,\n",
            "       -0.29314421, -0.29314421, -0.29314421, -0.29314421, -0.29314421,\n",
            "       -0.29314421, -0.29314421, -0.29314421, -0.29314421, -0.29314421,\n",
            "       -0.29314421, -0.29314421, -0.29314421, -0.29314421, -0.29314421]), 'split6_train_score': array([-0.29314421, -0.29314421, -0.29314421, -0.29314421, -0.29314421,\n",
            "       -0.29787234, -0.29787234, -0.29787234, -0.29787234, -0.29787234,\n",
            "       -0.29787234, -0.29787234, -0.29787234, -0.29787234, -0.29787234,\n",
            "       -0.29787234, -0.29787234, -0.29787234, -0.29787234, -0.29787234]), 'split7_train_score': array([-0.29314421, -0.29314421, -0.29314421, -0.29314421, -0.29314421,\n",
            "       -0.29314421, -0.29314421, -0.29314421, -0.29314421, -0.29787234,\n",
            "       -0.29787234, -0.29787234, -0.29787234, -0.29787234, -0.29787234,\n",
            "       -0.29787234, -0.29787234, -0.29787234, -0.29787234, -0.29787234]), 'split8_train_score': array([-0.29314421, -0.29314421, -0.29314421, -0.29314421, -0.29787234,\n",
            "       -0.29787234, -0.29787234, -0.29787234, -0.29787234, -0.29787234,\n",
            "       -0.29787234, -0.29787234, -0.29787234, -0.29787234, -0.29787234,\n",
            "       -0.29787234, -0.29787234, -0.29787234, -0.29787234, -0.29787234]), 'split9_train_score': array([-0.29314421, -0.29314421, -0.29314421, -0.29314421, -0.29314421,\n",
            "       -0.29314421, -0.29314421, -0.29314421, -0.29314421, -0.29314421,\n",
            "       -0.29314421, -0.29314421, -0.29314421, -0.29314421, -0.29314421,\n",
            "       -0.29314421, -0.29314421, -0.29314421, -0.29314421, -0.29314421]), 'mean_train_score': array([-0.29361702, -0.29361702, -0.29361702, -0.29361702, -0.29456265,\n",
            "       -0.29503546, -0.29550827, -0.29550827, -0.29550827, -0.2964539 ,\n",
            "       -0.2964539 , -0.2964539 , -0.2964539 , -0.2964539 , -0.2964539 ,\n",
            "       -0.2964539 , -0.2964539 , -0.2964539 , -0.2964539 , -0.2964539 ]), 'std_train_score': array([0.00141844, 0.00141844, 0.00141844, 0.00141844, 0.0021667 ,\n",
            "       0.0023163 , 0.00236407, 0.00236407, 0.00236407, 0.0021667 ,\n",
            "       0.0021667 , 0.0021667 , 0.0021667 , 0.0021667 , 0.0021667 ,\n",
            "       0.0021667 , 0.0021667 , 0.0021667 , 0.0021667 , 0.0021667 ])}\n",
            "Best parameter (CV score=-0.294):\n",
            "{'C': 0.0001}\n"
          ]
        }
      ]
    },
    {
      "cell_type": "code",
      "source": [
        "# Test logistic regression model on testing set\n",
        "labels_predict = search_logistic.predict(features_test)\n",
        "print(mean_squared_error(labels_test, labels_predict))\n",
        "print(mean_absolute_error(labels_test, labels_predict))"
      ],
      "metadata": {
        "colab": {
          "base_uri": "https://localhost:8080/"
        },
        "id": "M8vvjfH018oB",
        "outputId": "b937de8c-f540-4833-ff36-8b2e87ba8b53"
      },
      "execution_count": null,
      "outputs": [
        {
          "output_type": "stream",
          "name": "stdout",
          "text": [
            "0.22328548644338117\n",
            "0.11164274322169059\n"
          ]
        }
      ]
    },
    {
      "cell_type": "code",
      "source": [
        "# Try Decision Tree model\n",
        "# Use GridSearch for better parameters \"max_depth\"\n",
        "# Use 10 fold cross validation\n",
        "clf = DecisionTreeClassifier(random_state=0)\n",
        "params_clf = {'max_depth': range(3, 20)}\n",
        "search_clf = GridSearchCV(clf, params_clf, cv=10, scoring='neg_mean_squared_error', return_train_score=True)\n",
        "search_clf.fit(features_train, labels_train)\n",
        "print(search_clf.cv_results_)\n",
        "print(\"Best parameter (CV score=%0.3f):\" % search_clf.best_score_)\n",
        "print(search_clf.best_params_)"
      ],
      "metadata": {
        "id": "25AwZ4LRbrAw",
        "colab": {
          "base_uri": "https://localhost:8080/"
        },
        "outputId": "da322c7f-cac9-4b89-e32f-881b33d1ec5f"
      },
      "execution_count": null,
      "outputs": [
        {
          "output_type": "stream",
          "name": "stdout",
          "text": [
            "{'mean_fit_time': array([0.00500758, 0.00514798, 0.00548754, 0.0068171 , 0.00690119,\n",
            "       0.00903223, 0.00580232, 0.00586095, 0.00620615, 0.0061872 ,\n",
            "       0.0067075 , 0.00656829, 0.00649085, 0.00649576, 0.00672238,\n",
            "       0.0066829 , 0.00687292]), 'std_fit_time': array([0.00223764, 0.00116756, 0.00021214, 0.00192483, 0.00086615,\n",
            "       0.00454152, 0.00057001, 0.00014866, 0.00046964, 0.0002986 ,\n",
            "       0.00057219, 0.00033805, 0.00034359, 0.00023424, 0.00067038,\n",
            "       0.00050596, 0.00096804]), 'mean_score_time': array([0.00089817, 0.00090117, 0.00096381, 0.00127842, 0.00098951,\n",
            "       0.00144601, 0.00065973, 0.00056822, 0.00061142, 0.00054619,\n",
            "       0.00063076, 0.00064094, 0.00055571, 0.00053291, 0.00060017,\n",
            "       0.00059431, 0.00060837]), 'std_score_time': array([9.61293422e-05, 4.96078884e-05, 1.22612732e-04, 8.50367399e-04,\n",
            "       1.34889430e-04, 1.58272410e-03, 2.25528815e-04, 3.31924647e-05,\n",
            "       1.32335553e-04, 2.17323341e-05, 1.42744658e-04, 1.51253245e-04,\n",
            "       3.32668341e-05, 3.04657153e-05, 1.50023346e-04, 1.15196893e-04,\n",
            "       1.42533321e-04]), 'param_max_depth': masked_array(data=[3, 4, 5, 6, 7, 8, 9, 10, 11, 12, 13, 14, 15, 16, 17,\n",
            "                   18, 19],\n",
            "             mask=[False, False, False, False, False, False, False, False,\n",
            "                   False, False, False, False, False, False, False, False,\n",
            "                   False],\n",
            "       fill_value='?',\n",
            "            dtype=object), 'params': [{'max_depth': 3}, {'max_depth': 4}, {'max_depth': 5}, {'max_depth': 6}, {'max_depth': 7}, {'max_depth': 8}, {'max_depth': 9}, {'max_depth': 10}, {'max_depth': 11}, {'max_depth': 12}, {'max_depth': 13}, {'max_depth': 14}, {'max_depth': 15}, {'max_depth': 16}, {'max_depth': 17}, {'max_depth': 18}, {'max_depth': 19}], 'split0_test_score': array([-0.29787234, -0.29787234, -0.25531915, -0.29787234, -0.29787234,\n",
            "       -0.29787234, -0.38297872, -0.42553191, -0.38297872, -0.38297872,\n",
            "       -0.42553191, -0.46808511, -0.38297872, -0.46808511, -0.38297872,\n",
            "       -0.34042553, -0.34042553]), 'split1_test_score': array([-0.38297872, -0.42553191, -0.42553191, -0.42553191, -0.5106383 ,\n",
            "       -0.5106383 , -0.5106383 , -0.5106383 , -0.5106383 , -0.55319149,\n",
            "       -0.55319149, -0.55319149, -0.5106383 , -0.68085106, -0.68085106,\n",
            "       -0.68085106, -0.63829787]), 'split2_test_score': array([-0.29787234, -0.29787234, -0.29787234, -0.21276596, -0.25531915,\n",
            "       -0.29787234, -0.21276596, -0.29787234, -0.25531915, -0.34042553,\n",
            "       -0.34042553, -0.42553191, -0.38297872, -0.46808511, -0.38297872,\n",
            "       -0.5106383 , -0.5106383 ]), 'split3_test_score': array([-0.29787234, -0.34042553, -0.34042553, -0.34042553, -0.34042553,\n",
            "       -0.42553191, -0.38297872, -0.42553191, -0.38297872, -0.42553191,\n",
            "       -0.55319149, -0.5106383 , -0.5106383 , -0.59574468, -0.55319149,\n",
            "       -0.55319149, -0.55319149]), 'split4_test_score': array([-0.29787234, -0.29787234, -0.29787234, -0.34042553, -0.29787234,\n",
            "       -0.29787234, -0.29787234, -0.29787234, -0.34042553, -0.46808511,\n",
            "       -0.42553191, -0.5106383 , -0.5106383 , -0.55319149, -0.46808511,\n",
            "       -0.5106383 , -0.5106383 ]), 'split5_test_score': array([-0.42553191, -0.42553191, -0.38297872, -0.38297872, -0.59574468,\n",
            "       -0.55319149, -0.68085106, -0.63829787, -0.68085106, -0.55319149,\n",
            "       -0.63829787, -0.63829787, -0.80851064, -0.63829787, -0.72340426,\n",
            "       -0.72340426, -0.68085106]), 'split6_test_score': array([-0.34042553, -0.29787234, -0.25531915, -0.29787234, -0.29787234,\n",
            "       -0.29787234, -0.46808511, -0.46808511, -0.5106383 , -0.59574468,\n",
            "       -0.55319149, -0.59574468, -0.59574468, -0.63829787, -0.59574468,\n",
            "       -0.59574468, -0.59574468]), 'split7_test_score': array([-0.34042553, -0.34042553, -0.34042553, -0.34042553, -0.34042553,\n",
            "       -0.34042553, -0.46808511, -0.42553191, -0.42553191, -0.46808511,\n",
            "       -0.46808511, -0.42553191, -0.46808511, -0.5106383 , -0.46808511,\n",
            "       -0.42553191, -0.5106383 ]), 'split8_test_score': array([-0.29787234, -0.29787234, -0.29787234, -0.29787234, -0.34042553,\n",
            "       -0.38297872, -0.42553191, -0.42553191, -0.42553191, -0.38297872,\n",
            "       -0.59574468, -0.55319149, -0.55319149, -0.55319149, -0.59574468,\n",
            "       -0.63829787, -0.63829787]), 'split9_test_score': array([-0.29787234, -0.29787234, -0.29787234, -0.29787234, -0.34042553,\n",
            "       -0.34042553, -0.34042553, -0.38297872, -0.42553191, -0.42553191,\n",
            "       -0.42553191, -0.46808511, -0.5106383 , -0.46808511, -0.5106383 ,\n",
            "       -0.46808511, -0.46808511]), 'mean_test_score': array([-0.32765957, -0.33191489, -0.31914894, -0.32340426, -0.36170213,\n",
            "       -0.37446809, -0.41702128, -0.42978723, -0.43404255, -0.45957447,\n",
            "       -0.49787234, -0.51489362, -0.52340426, -0.55744681, -0.53617021,\n",
            "       -0.54468085, -0.54468085]), 'std_test_score': array([0.04276543, 0.04962512, 0.05124083, 0.05449467, 0.10114778,\n",
            "       0.08885367, 0.12155623, 0.09409934, 0.10898935, 0.0802892 ,\n",
            "       0.0893617 , 0.0671478 , 0.11426146, 0.07480168, 0.1096519 ,\n",
            "       0.11226303, 0.09477046]), 'rank_test_score': array([ 3,  4,  1,  2,  5,  6,  7,  8,  9, 10, 11, 12, 13, 17, 14, 15, 16],\n",
            "      dtype=int32), 'split0_train_score': array([-0.27423168, -0.26004728, -0.25531915, -0.24113475, -0.23167849,\n",
            "       -0.21749409, -0.20330969, -0.1749409 , -0.12293144, -0.10401891,\n",
            "       -0.07565012, -0.06619385, -0.05673759, -0.04255319, -0.03782506,\n",
            "       -0.03309693, -0.03309693]), 'split1_train_score': array([-0.26004728, -0.24586288, -0.23640662, -0.22695035, -0.20803783,\n",
            "       -0.1891253 , -0.1607565 , -0.13238771, -0.12293144, -0.09456265,\n",
            "       -0.08037825, -0.06619385, -0.04728132, -0.03309693, -0.02836879,\n",
            "       -0.02364066, -0.00945626]), 'split2_train_score': array([-0.27895981, -0.25531915, -0.24586288, -0.22695035, -0.19858156,\n",
            "       -0.17966903, -0.1607565 , -0.12765957, -0.09929078, -0.08037825,\n",
            "       -0.06619385, -0.04728132, -0.02836879, -0.0141844 , -0.00945626,\n",
            "       -0.        , -0.        ]), 'split3_train_score': array([-0.26477541, -0.25059102, -0.24586288, -0.23640662, -0.22695035,\n",
            "       -0.20803783, -0.1749409 , -0.15130024, -0.14184397, -0.12293144,\n",
            "       -0.08510638, -0.05673759, -0.03309693, -0.01891253, -0.00945626,\n",
            "       -0.        , -0.        ]), 'split4_train_score': array([-0.26477541, -0.26004728, -0.23640662, -0.21749409, -0.17966903,\n",
            "       -0.13238771, -0.12293144, -0.09929078, -0.06619385, -0.05200946,\n",
            "       -0.04728132, -0.04255319, -0.02836879, -0.0141844 , -0.00472813,\n",
            "       -0.00472813, -0.        ]), 'split5_train_score': array([-0.25531915, -0.23640662, -0.23167849, -0.23167849, -0.20803783,\n",
            "       -0.1749409 , -0.1465721 , -0.12765957, -0.10401891, -0.07565012,\n",
            "       -0.06146572, -0.05200946, -0.04255319, -0.03782506, -0.02364066,\n",
            "       -0.0141844 , -0.00945626]), 'split6_train_score': array([-0.26950355, -0.26004728, -0.23640662, -0.21749409, -0.18439716,\n",
            "       -0.17021277, -0.12765957, -0.11347518, -0.09456265, -0.06619385,\n",
            "       -0.02364066, -0.01891253, -0.00945626, -0.00472813, -0.        ,\n",
            "       -0.        , -0.        ]), 'split7_train_score': array([-0.26950355, -0.25059102, -0.24113475, -0.22222222, -0.19858156,\n",
            "       -0.1607565 , -0.13711584, -0.13238771, -0.09456265, -0.08037825,\n",
            "       -0.06146572, -0.05200946, -0.04255319, -0.03309693, -0.02836879,\n",
            "       -0.02364066, -0.01891253]), 'split8_train_score': array([-0.28841608, -0.27423168, -0.25059102, -0.23167849, -0.20803783,\n",
            "       -0.19385343, -0.17021277, -0.15130024, -0.12765957, -0.10401891,\n",
            "       -0.06619385, -0.03782506, -0.02364066, -0.0141844 , -0.00945626,\n",
            "       -0.00472813, -0.        ]), 'split9_train_score': array([-0.26477541, -0.25059102, -0.24586288, -0.23640662, -0.22222222,\n",
            "       -0.19858156, -0.17021277, -0.12765957, -0.11347518, -0.09456265,\n",
            "       -0.07565012, -0.05673759, -0.03782506, -0.02836879, -0.0141844 ,\n",
            "       -0.0141844 , -0.        ]), 'mean_train_score': array([-0.26903073, -0.25437352, -0.24255319, -0.22884161, -0.20661939,\n",
            "       -0.18250591, -0.15744681, -0.13380615, -0.10874704, -0.08747045,\n",
            "       -0.0643026 , -0.04964539, -0.03498818, -0.02411348, -0.01654846,\n",
            "       -0.01182033, -0.0070922 ]), 'std_train_score': array([0.00908245, 0.00964354, 0.00702887, 0.00768231, 0.01624855,\n",
            "       0.02346983, 0.02316785, 0.02006534, 0.02050069, 0.01963741,\n",
            "       0.01707373, 0.0134149 , 0.0127221 , 0.0118581 , 0.01162967,\n",
            "       0.01123864, 0.01062516])}\n",
            "Best parameter (CV score=-0.319):\n",
            "{'max_depth': 5}\n"
          ]
        }
      ]
    },
    {
      "cell_type": "code",
      "source": [
        "# Test Decision Tree model on testing set\n",
        "labels_predict = search_clf.predict(features_test)\n",
        "print(mean_squared_error(labels_test, labels_predict))\n",
        "print(mean_absolute_error(labels_test, labels_predict))"
      ],
      "metadata": {
        "colab": {
          "base_uri": "https://localhost:8080/"
        },
        "id": "UmOsVpmllZ8x",
        "outputId": "cfae5da5-c96b-4be8-897f-0106eb8184b5"
      },
      "execution_count": null,
      "outputs": [
        {
          "output_type": "stream",
          "name": "stdout",
          "text": [
            "0.2551834130781499\n",
            "0.12759170653907495\n"
          ]
        }
      ]
    }
  ]
}